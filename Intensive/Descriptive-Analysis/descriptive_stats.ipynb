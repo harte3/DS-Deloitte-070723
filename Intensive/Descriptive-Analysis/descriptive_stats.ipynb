{
 "cells": [
  {
   "cell_type": "markdown",
   "metadata": {
    "toc": true
   },
   "source": [
    "<h1>Table of Contents<span class=\"tocSkip\"></span></h1>\n",
    "<div class=\"toc\"><ul class=\"toc-item\"><li><span><a href=\"#Descriptive-Analysis\" data-toc-modified-id=\"Descriptive-Analysis-1\"><span class=\"toc-item-num\">1&nbsp;&nbsp;</span>Descriptive Analysis</a></span><ul class=\"toc-item\"><li><span><a href=\"#Objectives\" data-toc-modified-id=\"Objectives-1.1\"><span class=\"toc-item-num\">1.1&nbsp;&nbsp;</span>Objectives</a></span></li></ul></li><li><span><a href=\"#Sample-Data\" data-toc-modified-id=\"Sample-Data-2\"><span class=\"toc-item-num\">2&nbsp;&nbsp;</span>Sample Data</a></span></li><li><span><a href=\"#Different-Statical-Measures\" data-toc-modified-id=\"Different-Statical-Measures-3\"><span class=\"toc-item-num\">3&nbsp;&nbsp;</span>Different Statical Measures</a></span><ul class=\"toc-item\"><li><span><a href=\"#Measures-of-Center\" data-toc-modified-id=\"Measures-of-Center-3.1\"><span class=\"toc-item-num\">3.1&nbsp;&nbsp;</span>Measures of Center</a></span><ul class=\"toc-item\"><li><span><a href=\"#Mathematical-Properties\" data-toc-modified-id=\"Mathematical-Properties-3.1.1\"><span class=\"toc-item-num\">3.1.1&nbsp;&nbsp;</span>Mathematical Properties</a></span></li></ul></li><li><span><a href=\"#Measures-of-Spread\" data-toc-modified-id=\"Measures-of-Spread-3.2\"><span class=\"toc-item-num\">3.2&nbsp;&nbsp;</span>Measures of Spread</a></span><ul class=\"toc-item\"><li><span><a href=\"#Min,-Max,-and-Range\" data-toc-modified-id=\"Min,-Max,-and-Range-3.2.1\"><span class=\"toc-item-num\">3.2.1&nbsp;&nbsp;</span>Min, Max, and Range</a></span></li><li><span><a href=\"#Percentiles-and-IQR\" data-toc-modified-id=\"Percentiles-and-IQR-3.2.2\"><span class=\"toc-item-num\">3.2.2&nbsp;&nbsp;</span>Percentiles and IQR</a></span></li><li><span><a href=\"#Standard-Deviation\" data-toc-modified-id=\"Standard-Deviation-3.2.3\"><span class=\"toc-item-num\">3.2.3&nbsp;&nbsp;</span>Standard Deviation</a></span></li></ul></li><li><span><a href=\"#df.describe()\" data-toc-modified-id=\"df.describe()-3.3\"><span class=\"toc-item-num\">3.3&nbsp;&nbsp;</span><code>df.describe()</code></a></span></li></ul></li><li><span><a href=\"#Visual-Description\" data-toc-modified-id=\"Visual-Description-4\"><span class=\"toc-item-num\">4&nbsp;&nbsp;</span>Visual Description</a></span><ul class=\"toc-item\"><li><span><a href=\"#Histograms\" data-toc-modified-id=\"Histograms-4.1\"><span class=\"toc-item-num\">4.1&nbsp;&nbsp;</span>Histograms</a></span></li><li><span><a href=\"#Box-and-Whisker-Plot\" data-toc-modified-id=\"Box-and-Whisker-Plot-4.2\"><span class=\"toc-item-num\">4.2&nbsp;&nbsp;</span>Box and Whisker Plot</a></span></li></ul></li><li><span><a href=\"#Addressing-Business-Questions\" data-toc-modified-id=\"Addressing-Business-Questions-5\"><span class=\"toc-item-num\">5&nbsp;&nbsp;</span>Addressing Business Questions</a></span><ul class=\"toc-item\"><li><span><a href=\"#Fast-Food-Data\" data-toc-modified-id=\"Fast-Food-Data-5.1\"><span class=\"toc-item-num\">5.1&nbsp;&nbsp;</span>Fast Food Data</a></span><ul class=\"toc-item\"><li><span><a href=\"#Question-1:\" data-toc-modified-id=\"Question-1:-5.1.1\"><span class=\"toc-item-num\">5.1.1&nbsp;&nbsp;</span>Question 1:</a></span></li><li><span><a href=\"#Question-2\" data-toc-modified-id=\"Question-2-5.1.2\"><span class=\"toc-item-num\">5.1.2&nbsp;&nbsp;</span>Question 2</a></span></li><li><span><a href=\"#Question-3-(Exercise!):\" data-toc-modified-id=\"Question-3-(Exercise!):-5.1.3\"><span class=\"toc-item-num\">5.1.3&nbsp;&nbsp;</span>Question 3 (Exercise!):</a></span></li><li><span><a href=\"#Question-4-(Exercise!):\" data-toc-modified-id=\"Question-4-(Exercise!):-5.1.4\"><span class=\"toc-item-num\">5.1.4&nbsp;&nbsp;</span>Question 4 (Exercise!):</a></span></li><li><span><a href=\"#Question-5-(Exercise!)\" data-toc-modified-id=\"Question-5-(Exercise!)-5.1.5\"><span class=\"toc-item-num\">5.1.5&nbsp;&nbsp;</span>Question 5 (Exercise!)</a></span></li></ul></li><li><span><a href=\"#Credit-Card-Data\" data-toc-modified-id=\"Credit-Card-Data-5.2\"><span class=\"toc-item-num\">5.2&nbsp;&nbsp;</span>Credit Card Data</a></span><ul class=\"toc-item\"><li><span><a href=\"#Question-1-(Exercise!)\" data-toc-modified-id=\"Question-1-(Exercise!)-5.2.1\"><span class=\"toc-item-num\">5.2.1&nbsp;&nbsp;</span>Question 1 (Exercise!)</a></span></li><li><span><a href=\"#Question-2-(Exercise!)\" data-toc-modified-id=\"Question-2-(Exercise!)-5.2.2\"><span class=\"toc-item-num\">5.2.2&nbsp;&nbsp;</span>Question 2 (Exercise!)</a></span></li><li><span><a href=\"#Question-3-(Exercise!)\" data-toc-modified-id=\"Question-3-(Exercise!)-5.2.3\"><span class=\"toc-item-num\">5.2.3&nbsp;&nbsp;</span>Question 3 (Exercise!)</a></span></li></ul></li></ul></li><li><span><a href=\"#Level-Up:-Other-Shape-Descriptors\" data-toc-modified-id=\"Level-Up:-Other-Shape-Descriptors-6\"><span class=\"toc-item-num\">6&nbsp;&nbsp;</span>Level Up: Other Shape Descriptors</a></span><ul class=\"toc-item\"><li><span><a href=\"#Moments\" data-toc-modified-id=\"Moments-6.1\"><span class=\"toc-item-num\">6.1&nbsp;&nbsp;</span>Moments</a></span><ul class=\"toc-item\"><li><span><a href=\"#Skewness\" data-toc-modified-id=\"Skewness-6.1.1\"><span class=\"toc-item-num\">6.1.1&nbsp;&nbsp;</span>Skewness</a></span></li><li><span><a href=\"#Kurtosis\" data-toc-modified-id=\"Kurtosis-6.1.2\"><span class=\"toc-item-num\">6.1.2&nbsp;&nbsp;</span>Kurtosis</a></span></li></ul></li><li><span><a href=\"#Symmetry\" data-toc-modified-id=\"Symmetry-6.2\"><span class=\"toc-item-num\">6.2&nbsp;&nbsp;</span>Symmetry</a></span></li><li><span><a href=\"#Modality\" data-toc-modified-id=\"Modality-6.3\"><span class=\"toc-item-num\">6.3&nbsp;&nbsp;</span>Modality</a></span></li></ul></li></ul></div>"
   ]
  },
  {
   "cell_type": "code",
   "execution_count": 3,
   "metadata": {},
   "outputs": [],
   "source": [
    "from scipy import stats\n",
    "from matplotlib import pyplot as plt\n",
    "import seaborn as sns\n",
    "import pandas as pd\n",
    "import numpy as np\n",
    "\n",
    "%matplotlib inline\n",
    "\n",
    "plt.style.use('fivethirtyeight')"
   ]
  },
  {
   "cell_type": "markdown",
   "metadata": {
    "heading_collapsed": true
   },
   "source": [
    "# Descriptive Analysis"
   ]
  },
  {
   "cell_type": "markdown",
   "metadata": {
    "hidden": true
   },
   "source": [
    "When trying to understand your data, it is typically impossible to just look at raw data and get much insight. We need ways to turn a bunch of data into a smaller set of numbers that are easily digestible summaries of your data. This will make them understandable both for you and for the people you work with. We call these **descriptive statistics**."
   ]
  },
  {
   "cell_type": "markdown",
   "metadata": {
    "heading_collapsed": true,
    "hidden": true
   },
   "source": [
    "## Objectives"
   ]
  },
  {
   "cell_type": "markdown",
   "metadata": {
    "hidden": true
   },
   "source": [
    "- Use business context to guide exploratory analyses\n",
    "- Pose clear business-relevant questions and answer them with data\n",
    "- Identify limitations of data for solving business problems"
   ]
  },
  {
   "cell_type": "markdown",
   "metadata": {
    "heading_collapsed": true
   },
   "source": [
    "# Sample Data"
   ]
  },
  {
   "cell_type": "markdown",
   "metadata": {
    "hidden": true
   },
   "source": [
    "Let's build a simple dataset, based on a hypothetical survey of the number of pairs of shoes owned by 11 random people:"
   ]
  },
  {
   "cell_type": "code",
   "execution_count": null,
   "metadata": {
    "hidden": true
   },
   "outputs": [],
   "source": [
    "data = np.array([5, 6, 3, 4, 3, 4, 8, 8, 1, 8, 2])\n",
    "data_df = pd.DataFrame(data, columns=[\"Pairs of Shoes\"])"
   ]
  },
  {
   "cell_type": "markdown",
   "metadata": {
    "heading_collapsed": true,
    "hidden": true
   },
   "source": [
    "## `df.describe()`"
   ]
  },
  {
   "cell_type": "markdown",
   "metadata": {
    "hidden": true
   },
   "source": [
    "This dataset has a bunch of individual observations in a range of values. These observations have an **empirical distribution** describing how the values are distributed across this range. We'll shorten this to just **distribution** for now. Everything that follows is our attempt to understand the distribution of our data."
   ]
  },
  {
   "cell_type": "markdown",
   "metadata": {
    "hidden": true
   },
   "source": [
    "You can actually get a bunch of descriptive statistics from any `pandas` DataFrame using the `.describe()` method. This should be one of the first things you'll do when exploring a new dataset."
   ]
  },
  {
   "cell_type": "code",
   "execution_count": null,
   "metadata": {
    "hidden": true
   },
   "outputs": [],
   "source": [
    "data_df.describe()"
   ]
  },
  {
   "cell_type": "markdown",
   "metadata": {
    "heading_collapsed": true
   },
   "source": [
    "# Different Statistical Measures"
   ]
  },
  {
   "cell_type": "markdown",
   "metadata": {
    "heading_collapsed": true,
    "hidden": true
   },
   "source": [
    "## Measures of Center"
   ]
  },
  {
   "cell_type": "markdown",
   "metadata": {
    "hidden": true
   },
   "source": [
    "One natural place to begin is to ask about where the **middle** of the data is. In other words, what is the value that is closest to our other values? "
   ]
  },
  {
   "cell_type": "markdown",
   "metadata": {
    "hidden": true
   },
   "source": [
    "There are three common measures used to describe the \"middle\":\n",
    "\n",
    "- **Mean**: The sum of values / number of values\n",
    "- **Median**: The value with as many values above it as below it\n",
    "    - If the dataset has an even number of values, the median is the mean of the two middle numbers.\n",
    "- **Mode**: The most frequent value(s)\n",
    "    - A dataset can have multiple modes if multiple values are tied for the most frequent."
   ]
  },
  {
   "cell_type": "markdown",
   "metadata": {
    "hidden": true
   },
   "source": [
    "Let's see what we have for our example:"
   ]
  },
  {
   "cell_type": "code",
   "execution_count": null,
   "metadata": {
    "hidden": true
   },
   "outputs": [],
   "source": [
    "print(f\"Mean: {np.mean(data)}\")\n",
    "print(f\"Median: {np.median(data)}\")\n",
    "print(f\"Mode: {stats.mode(data)[0][0]}\")"
   ]
  },
  {
   "cell_type": "code",
   "execution_count": null,
   "metadata": {
    "hidden": true
   },
   "outputs": [],
   "source": [
    "## You can also find the mode(s) using np.unique()\n",
    "counts = np.unique(data, return_counts=True)\n",
    "counts"
   ]
  },
  {
   "cell_type": "markdown",
   "metadata": {
    "hidden": true
   },
   "source": [
    "**Discussion**: If somebody asked you \"How many pairs of shoes do people usually have?\", how would you answer (based on these data)?"
   ]
  },
  {
   "cell_type": "markdown",
   "metadata": {
    "heading_collapsed": true,
    "hidden": true
   },
   "source": [
    "### Mathematical Properties"
   ]
  },
  {
   "cell_type": "markdown",
   "metadata": {
    "hidden": true
   },
   "source": [
    "The mean $\\bar{x}$ is the point that minimizes the *sum of squared differences* for a given set of data.\n",
    "\n",
    "<details>\n",
    "    <summary>\n",
    "        Proof\n",
    "    </summary>\n",
    "    We want to find the point $k$ that minimizes $L(k) = \\Sigma^n_{i=1}(x_i-k)^2$. Now, a calculus trick, which we'll see again: To find the minimum of a function, we'll set its derivative to 0. Taking the derivative, we have:\n",
    "\n",
    "$L'(k) = -2\\Sigma^n_{i=1}(x_i-k)$.\n",
    "\n",
    "Now we solve $L'(k) = 0$ for $k$:\n",
    "\n",
    "$-2\\Sigma^n_{i=1}(x_i-k) = 0$, so <br/><br/>\n",
    "$\\Sigma^n_{i=1}(x_i-k) = 0$, so <br/><br/>\n",
    "$\\Sigma^n_{i=1}x_i = \\Sigma^n_{i=1}k = nk$, so <br/><br/>\n",
    "$k = \\frac{\\Sigma^n_{i=1}x_i}{n} = \\bar{x}$.\n",
    "    </details>\n"
   ]
  },
  {
   "cell_type": "markdown",
   "metadata": {
    "hidden": true
   },
   "source": [
    "By contrast, the median is the point that minimizes the *sum of absolute differences*.\n",
    "\n",
    "<details>\n",
    "    <summary>\n",
    "    Proof\n",
    "    </summary>\n",
    "    We want to find the point $k$ that minimizes $D(k) = \\Sigma^n_{i=1}|x_i-k|$. Taking the derivative, we have:\n",
    "\n",
    "$D'(k) = \\Sigma^n_{i=1}\\frac{k-x_i}{|k-x_i|}$.\n",
    "\n",
    "Now we solve $D'(k) = 0$ for $k$:\n",
    "\n",
    "Consider the sum $\\Sigma^n_{i=1}\\frac{k-x_i}{|k-x_i|} = 0$. Ignoring the case where $k = x_i$, each of the addends in this sum is $1$ if $k\\geq x_i$ and $-1$ if not. To make this sum equal to 0, we thus want to choose $k$ such that there are the same number of $1$s and $-1$s, which means that we want to choose $k$ to be the middle number, i.e. the median.\n",
    "\n",
    "Notes:\n",
    "- if $n$ is odd, then the minimum of the function occurs not where its derivative is 0 but where it is *undefined*;\n",
    "- if $n$ is even, then *any* number between the two middle numbers will minimize our function. By conventional defintion of the median in cases of an even number of data points, we take the arithmetic mean of the two middle numbers.\n",
    "    </details>"
   ]
  },
  {
   "cell_type": "markdown",
   "metadata": {
    "heading_collapsed": true,
    "hidden": true
   },
   "source": [
    "## Measures of Spread"
   ]
  },
  {
   "cell_type": "markdown",
   "metadata": {
    "hidden": true
   },
   "source": [
    "Another natural question is about the **spread** of the data. In other words, how wide a range of values do you have? And how close or far are they from the \"middle\"?"
   ]
  },
  {
   "cell_type": "markdown",
   "metadata": {
    "heading_collapsed": true,
    "hidden": true
   },
   "source": [
    "### Min, Max, and Range"
   ]
  },
  {
   "cell_type": "markdown",
   "metadata": {
    "hidden": true
   },
   "source": [
    "The minimum and maximum values of a dataset tell you the full extent of the values of your dataset. The range of the dataset is the difference between those two values."
   ]
  },
  {
   "cell_type": "code",
   "execution_count": null,
   "metadata": {
    "hidden": true
   },
   "outputs": [],
   "source": [
    "print(f\"Min: {data.min()}\")\n",
    "print(f\"Max: {data.max()}\")\n",
    "print(f\"Range: {data.max() - data.min()}\")"
   ]
  },
  {
   "cell_type": "markdown",
   "metadata": {
    "heading_collapsed": true,
    "hidden": true
   },
   "source": [
    "### Percentiles and IQR"
   ]
  },
  {
   "cell_type": "markdown",
   "metadata": {
    "hidden": true
   },
   "source": [
    "You can also calculate values at various **percentiles** to understand the spread. An \"Nth Percentile\" value is the value that is greater than N% of other values. The 25th and 75th percentiles are commonly used to describe spread, and the **interquartile range (IQR)** is the difference between these two values.\n",
    "\n",
    "See [the docs](https://numpy.org/doc/stable/reference/generated/numpy.percentile.html) for more specifics about how percentiles are calculated, which is surprisingly tricky."
   ]
  },
  {
   "cell_type": "code",
   "execution_count": null,
   "metadata": {
    "hidden": true
   },
   "outputs": [],
   "source": [
    "print(f\"25th Percentile: {np.percentile(data, 25)}\")\n",
    "print(f\"75th Percentile: {np.percentile(data, 75)}\")\n",
    "print(f\"IQR: {np.percentile(data, 75) - np.percentile(data, 25)}\")"
   ]
  },
  {
   "cell_type": "markdown",
   "metadata": {
    "heading_collapsed": true,
    "hidden": true
   },
   "source": [
    "### Standard Deviation"
   ]
  },
  {
   "cell_type": "markdown",
   "metadata": {
    "hidden": true
   },
   "source": [
    "The **standard deviation** is in effect the distance from the mean of the \"average\" data point. It is defined as: $$\\sqrt\\frac{\\Sigma(x_i - \\bar{x})^2}{n}$$."
   ]
  },
  {
   "cell_type": "code",
   "execution_count": null,
   "metadata": {
    "hidden": true,
    "scrolled": true
   },
   "outputs": [],
   "source": [
    "print(f\"Standard Deviation: {data.std()}\")"
   ]
  },
  {
   "cell_type": "code",
   "execution_count": null,
   "metadata": {},
   "outputs": [],
   "source": [
    "np.std(data)#, ddof=1)"
   ]
  },
  {
   "cell_type": "markdown",
   "metadata": {
    "heading_collapsed": true
   },
   "source": [
    "# Visual Description"
   ]
  },
  {
   "cell_type": "markdown",
   "metadata": {
    "hidden": true
   },
   "source": [
    "A picture is worth a thousand words - or numbers! Here we will show how to use histograms and box-and-whisker plots to describe your data."
   ]
  },
  {
   "cell_type": "markdown",
   "metadata": {
    "heading_collapsed": true,
    "hidden": true
   },
   "source": [
    "## Histograms"
   ]
  },
  {
   "cell_type": "markdown",
   "metadata": {
    "hidden": true
   },
   "source": [
    "One natural way of starting to understand a dataset is to construct a **histogram**, which is a bar chart showing the counts of the different values in the dataset.\n",
    "\n",
    "There will usually be many distinct values in your dataset, and you will need to decide how many **bins** to use in the histogram. The bins define the ranges of values captured in each bar in your chart. "
   ]
  },
  {
   "cell_type": "code",
   "execution_count": null,
   "metadata": {
    "hidden": true
   },
   "outputs": [],
   "source": [
    "fig, ax = plt.subplots()\n",
    "ax.hist(data, bins=14)\n",
    "plt.title('Counts, 14 Bins')"
   ]
  },
  {
   "cell_type": "code",
   "execution_count": null,
   "metadata": {
    "hidden": true
   },
   "outputs": [],
   "source": [
    "fig, ax = plt.subplots()\n",
    "ax.hist(data, bins=10)\n",
    "plt.title('Counts, 10 Bins')"
   ]
  },
  {
   "cell_type": "code",
   "execution_count": null,
   "metadata": {
    "hidden": true
   },
   "outputs": [],
   "source": [
    "fig, ax = plt.subplots()\n",
    "ax.hist(data, bins=5)\n",
    "plt.title('Counts, 5 Bins')"
   ]
  },
  {
   "cell_type": "code",
   "execution_count": null,
   "metadata": {
    "hidden": true
   },
   "outputs": [],
   "source": [
    "fig, ax = plt.subplots()\n",
    "ax.hist(data, bins=7)\n",
    "plt.title('Counts, 7 Bins')"
   ]
  },
  {
   "cell_type": "markdown",
   "metadata": {
    "heading_collapsed": true,
    "hidden": true
   },
   "source": [
    "## Box and Whisker Plot"
   ]
  },
  {
   "cell_type": "markdown",
   "metadata": {
    "hidden": true
   },
   "source": [
    "A box-and-whisker plot can also be useful for visually summarizing your data by showing the min, IQR, and max."
   ]
  },
  {
   "cell_type": "code",
   "execution_count": null,
   "metadata": {
    "hidden": true
   },
   "outputs": [],
   "source": [
    "fig, ax = plt.subplots()\n",
    "ax.boxplot(data)\n",
    "plt.title('Counts of Pairs of Shoes')"
   ]
  },
  {
   "cell_type": "markdown",
   "metadata": {
    "heading_collapsed": true
   },
   "source": [
    "# Addressing Business Questions"
   ]
  },
  {
   "cell_type": "markdown",
   "metadata": {
    "heading_collapsed": true,
    "hidden": true
   },
   "source": [
    "## Fast Food Data"
   ]
  },
  {
   "cell_type": "code",
   "execution_count": null,
   "metadata": {
    "hidden": true
   },
   "outputs": [],
   "source": [
    "ffood = pd.read_csv('data/Datafiniti_Fast_Food.csv')"
   ]
  },
  {
   "cell_type": "code",
   "execution_count": null,
   "metadata": {
    "hidden": true,
    "scrolled": true
   },
   "outputs": [],
   "source": [
    "ffood.head()"
   ]
  },
  {
   "cell_type": "code",
   "execution_count": null,
   "metadata": {
    "hidden": true
   },
   "outputs": [],
   "source": [
    "ffood.info()"
   ]
  },
  {
   "cell_type": "markdown",
   "metadata": {
    "heading_collapsed": true,
    "hidden": true
   },
   "source": [
    "### Question 1:"
   ]
  },
  {
   "cell_type": "markdown",
   "metadata": {
    "hidden": true
   },
   "source": [
    "How many different restaurant chains are represented in the data? Visualize the numbers for the restaurants with 50 or more instances."
   ]
  },
  {
   "cell_type": "code",
   "execution_count": null,
   "metadata": {
    "hidden": true
   },
   "outputs": [],
   "source": [
    "ffood['name'].value_counts()"
   ]
  },
  {
   "cell_type": "code",
   "execution_count": null,
   "metadata": {
    "hidden": true
   },
   "outputs": [],
   "source": [
    "counts = ffood['name'].value_counts()\n",
    "high_counts = counts[counts >= 50]"
   ]
  },
  {
   "cell_type": "code",
   "execution_count": null,
   "metadata": {
    "hidden": true
   },
   "outputs": [],
   "source": [
    "fig, ax = plt.subplots(figsize=(15, 6))\n",
    "\n",
    "ax.bar(x=high_counts.index, height=high_counts)\n",
    "ax.set_xticklabels(labels=high_counts.index, rotation=80);"
   ]
  },
  {
   "cell_type": "markdown",
   "metadata": {
    "heading_collapsed": true,
    "hidden": true
   },
   "source": [
    "### Question 2"
   ]
  },
  {
   "cell_type": "markdown",
   "metadata": {
    "hidden": true
   },
   "source": [
    "Visualize the locations of restaurants in Buffalo, NY."
   ]
  },
  {
   "cell_type": "code",
   "execution_count": null,
   "metadata": {
    "hidden": true
   },
   "outputs": [],
   "source": [
    "buffalo = ffood[ffood['city'] == 'Buffalo']\n",
    "\n",
    "fig, ax = plt.subplots(figsize=(8, 8))\n",
    "\n",
    "sns.scatterplot(data=buffalo,\n",
    "                x=buffalo['longitude'],\n",
    "                y=buffalo['latitude'],\n",
    "                hue=buffalo['name'],\n",
    "                ax=ax);"
   ]
  },
  {
   "cell_type": "markdown",
   "metadata": {
    "heading_collapsed": true,
    "hidden": true
   },
   "source": [
    "### Question 3 (Exercise!):"
   ]
  },
  {
   "cell_type": "markdown",
   "metadata": {
    "hidden": true
   },
   "source": [
    "In this dataset, how many Taco Bell restaurants are there in Alaska, and in which cities are they?"
   ]
  },
  {
   "cell_type": "code",
   "execution_count": null,
   "metadata": {
    "hidden": true
   },
   "outputs": [],
   "source": []
  },
  {
   "cell_type": "markdown",
   "metadata": {
    "hidden": true
   },
   "source": [
    "<details>\n",
    "    <summary>One answer here</summary>\n",
    "\n",
    "```python\n",
    "ak = ffood[ffood['province'] == 'AK']\n",
    "ak[ak['name'] == 'Taco Bell']\n",
    "```\n",
    "</details>    "
   ]
  },
  {
   "cell_type": "markdown",
   "metadata": {
    "heading_collapsed": true,
    "hidden": true
   },
   "source": [
    "### Question 4 (Exercise!):"
   ]
  },
  {
   "cell_type": "markdown",
   "metadata": {
    "hidden": true
   },
   "source": [
    "Convert the ZIP Codes to (five-digit) integers."
   ]
  },
  {
   "cell_type": "code",
   "execution_count": null,
   "metadata": {
    "hidden": true
   },
   "outputs": [],
   "source": []
  },
  {
   "cell_type": "markdown",
   "metadata": {
    "hidden": true
   },
   "source": [
    "<details>\n",
    "    <summary>One answer here</summary>\n",
    "\n",
    "```python\n",
    "ffood['postalCodeNew'] = ffood['postalCode'].map(lambda x: int(x[:5]))\n",
    "```\n",
    "</details>"
   ]
  },
  {
   "cell_type": "markdown",
   "metadata": {
    "heading_collapsed": true,
    "hidden": true
   },
   "source": [
    "### Question 5 (Exercise!)"
   ]
  },
  {
   "cell_type": "markdown",
   "metadata": {
    "hidden": true
   },
   "source": [
    "Which restaurant chain has the greatest representation in San Francisco, CA? (This city covers the ZIP Codes 94100-94188.)"
   ]
  },
  {
   "cell_type": "code",
   "execution_count": null,
   "metadata": {
    "hidden": true
   },
   "outputs": [],
   "source": []
  },
  {
   "cell_type": "markdown",
   "metadata": {
    "hidden": true
   },
   "source": [
    "<details>\n",
    "    <summary>Two answers here</summary>\n",
    "\n",
    "```python\n",
    "sf = ffood[ffood['city'] == 'San Francisco']\n",
    "sf['name'].value_counts()\n",
    "```\n",
    "OR\n",
    "    \n",
    "```python\n",
    "sf = ffood[(ffood['postalCodeNew'] >= 94100) & (ffood['postalCodeNew'] <= 94188)]\n",
    "sf['name'].value_counts()\n",
    "```\n",
    "</details>"
   ]
  },
  {
   "cell_type": "markdown",
   "metadata": {
    "heading_collapsed": true,
    "hidden": true
   },
   "source": [
    "## Credit Card Data"
   ]
  },
  {
   "cell_type": "code",
   "execution_count": 4,
   "metadata": {
    "hidden": true
   },
   "outputs": [],
   "source": [
    "credit = pd.read_csv('data/BankChurners.csv').iloc[:, :-2]"
   ]
  },
  {
   "cell_type": "code",
   "execution_count": 5,
   "metadata": {
    "hidden": true
   },
   "outputs": [
    {
     "data": {
      "text/html": [
       "<div>\n",
       "<style scoped>\n",
       "    .dataframe tbody tr th:only-of-type {\n",
       "        vertical-align: middle;\n",
       "    }\n",
       "\n",
       "    .dataframe tbody tr th {\n",
       "        vertical-align: top;\n",
       "    }\n",
       "\n",
       "    .dataframe thead th {\n",
       "        text-align: right;\n",
       "    }\n",
       "</style>\n",
       "<table border=\"1\" class=\"dataframe\">\n",
       "  <thead>\n",
       "    <tr style=\"text-align: right;\">\n",
       "      <th></th>\n",
       "      <th>CLIENTNUM</th>\n",
       "      <th>Attrition_Flag</th>\n",
       "      <th>Customer_Age</th>\n",
       "      <th>Gender</th>\n",
       "      <th>Dependent_count</th>\n",
       "      <th>Education_Level</th>\n",
       "      <th>Marital_Status</th>\n",
       "      <th>Income_Category</th>\n",
       "      <th>Card_Category</th>\n",
       "      <th>Months_on_book</th>\n",
       "      <th>...</th>\n",
       "      <th>Months_Inactive_12_mon</th>\n",
       "      <th>Contacts_Count_12_mon</th>\n",
       "      <th>Credit_Limit</th>\n",
       "      <th>Total_Revolving_Bal</th>\n",
       "      <th>Avg_Open_To_Buy</th>\n",
       "      <th>Total_Amt_Chng_Q4_Q1</th>\n",
       "      <th>Total_Trans_Amt</th>\n",
       "      <th>Total_Trans_Ct</th>\n",
       "      <th>Total_Ct_Chng_Q4_Q1</th>\n",
       "      <th>Avg_Utilization_Ratio</th>\n",
       "    </tr>\n",
       "  </thead>\n",
       "  <tbody>\n",
       "    <tr>\n",
       "      <th>0</th>\n",
       "      <td>768805383</td>\n",
       "      <td>Existing Customer</td>\n",
       "      <td>45</td>\n",
       "      <td>M</td>\n",
       "      <td>3</td>\n",
       "      <td>High School</td>\n",
       "      <td>Married</td>\n",
       "      <td>$60K - $80K</td>\n",
       "      <td>Blue</td>\n",
       "      <td>39</td>\n",
       "      <td>...</td>\n",
       "      <td>1</td>\n",
       "      <td>3</td>\n",
       "      <td>12691.0</td>\n",
       "      <td>777</td>\n",
       "      <td>11914.0</td>\n",
       "      <td>1.335</td>\n",
       "      <td>1144</td>\n",
       "      <td>42</td>\n",
       "      <td>1.625</td>\n",
       "      <td>0.061</td>\n",
       "    </tr>\n",
       "    <tr>\n",
       "      <th>1</th>\n",
       "      <td>818770008</td>\n",
       "      <td>Existing Customer</td>\n",
       "      <td>49</td>\n",
       "      <td>F</td>\n",
       "      <td>5</td>\n",
       "      <td>Graduate</td>\n",
       "      <td>Single</td>\n",
       "      <td>Less than $40K</td>\n",
       "      <td>Blue</td>\n",
       "      <td>44</td>\n",
       "      <td>...</td>\n",
       "      <td>1</td>\n",
       "      <td>2</td>\n",
       "      <td>8256.0</td>\n",
       "      <td>864</td>\n",
       "      <td>7392.0</td>\n",
       "      <td>1.541</td>\n",
       "      <td>1291</td>\n",
       "      <td>33</td>\n",
       "      <td>3.714</td>\n",
       "      <td>0.105</td>\n",
       "    </tr>\n",
       "    <tr>\n",
       "      <th>2</th>\n",
       "      <td>713982108</td>\n",
       "      <td>Existing Customer</td>\n",
       "      <td>51</td>\n",
       "      <td>M</td>\n",
       "      <td>3</td>\n",
       "      <td>Graduate</td>\n",
       "      <td>Married</td>\n",
       "      <td>$80K - $120K</td>\n",
       "      <td>Blue</td>\n",
       "      <td>36</td>\n",
       "      <td>...</td>\n",
       "      <td>1</td>\n",
       "      <td>0</td>\n",
       "      <td>3418.0</td>\n",
       "      <td>0</td>\n",
       "      <td>3418.0</td>\n",
       "      <td>2.594</td>\n",
       "      <td>1887</td>\n",
       "      <td>20</td>\n",
       "      <td>2.333</td>\n",
       "      <td>0.000</td>\n",
       "    </tr>\n",
       "    <tr>\n",
       "      <th>3</th>\n",
       "      <td>769911858</td>\n",
       "      <td>Existing Customer</td>\n",
       "      <td>40</td>\n",
       "      <td>F</td>\n",
       "      <td>4</td>\n",
       "      <td>High School</td>\n",
       "      <td>Unknown</td>\n",
       "      <td>Less than $40K</td>\n",
       "      <td>Blue</td>\n",
       "      <td>34</td>\n",
       "      <td>...</td>\n",
       "      <td>4</td>\n",
       "      <td>1</td>\n",
       "      <td>3313.0</td>\n",
       "      <td>2517</td>\n",
       "      <td>796.0</td>\n",
       "      <td>1.405</td>\n",
       "      <td>1171</td>\n",
       "      <td>20</td>\n",
       "      <td>2.333</td>\n",
       "      <td>0.760</td>\n",
       "    </tr>\n",
       "    <tr>\n",
       "      <th>4</th>\n",
       "      <td>709106358</td>\n",
       "      <td>Existing Customer</td>\n",
       "      <td>40</td>\n",
       "      <td>M</td>\n",
       "      <td>3</td>\n",
       "      <td>Uneducated</td>\n",
       "      <td>Married</td>\n",
       "      <td>$60K - $80K</td>\n",
       "      <td>Blue</td>\n",
       "      <td>21</td>\n",
       "      <td>...</td>\n",
       "      <td>1</td>\n",
       "      <td>0</td>\n",
       "      <td>4716.0</td>\n",
       "      <td>0</td>\n",
       "      <td>4716.0</td>\n",
       "      <td>2.175</td>\n",
       "      <td>816</td>\n",
       "      <td>28</td>\n",
       "      <td>2.500</td>\n",
       "      <td>0.000</td>\n",
       "    </tr>\n",
       "  </tbody>\n",
       "</table>\n",
       "<p>5 rows × 21 columns</p>\n",
       "</div>"
      ],
      "text/plain": [
       "   CLIENTNUM     Attrition_Flag  Customer_Age Gender  Dependent_count  \\\n",
       "0  768805383  Existing Customer            45      M                3   \n",
       "1  818770008  Existing Customer            49      F                5   \n",
       "2  713982108  Existing Customer            51      M                3   \n",
       "3  769911858  Existing Customer            40      F                4   \n",
       "4  709106358  Existing Customer            40      M                3   \n",
       "\n",
       "  Education_Level Marital_Status Income_Category Card_Category  \\\n",
       "0     High School        Married     $60K - $80K          Blue   \n",
       "1        Graduate         Single  Less than $40K          Blue   \n",
       "2        Graduate        Married    $80K - $120K          Blue   \n",
       "3     High School        Unknown  Less than $40K          Blue   \n",
       "4      Uneducated        Married     $60K - $80K          Blue   \n",
       "\n",
       "   Months_on_book  ...  Months_Inactive_12_mon  Contacts_Count_12_mon  \\\n",
       "0              39  ...                       1                      3   \n",
       "1              44  ...                       1                      2   \n",
       "2              36  ...                       1                      0   \n",
       "3              34  ...                       4                      1   \n",
       "4              21  ...                       1                      0   \n",
       "\n",
       "   Credit_Limit  Total_Revolving_Bal  Avg_Open_To_Buy  Total_Amt_Chng_Q4_Q1  \\\n",
       "0       12691.0                  777          11914.0                 1.335   \n",
       "1        8256.0                  864           7392.0                 1.541   \n",
       "2        3418.0                    0           3418.0                 2.594   \n",
       "3        3313.0                 2517            796.0                 1.405   \n",
       "4        4716.0                    0           4716.0                 2.175   \n",
       "\n",
       "   Total_Trans_Amt  Total_Trans_Ct  Total_Ct_Chng_Q4_Q1  Avg_Utilization_Ratio  \n",
       "0             1144              42                1.625                  0.061  \n",
       "1             1291              33                3.714                  0.105  \n",
       "2             1887              20                2.333                  0.000  \n",
       "3             1171              20                2.333                  0.760  \n",
       "4              816              28                2.500                  0.000  \n",
       "\n",
       "[5 rows x 21 columns]"
      ]
     },
     "execution_count": 5,
     "metadata": {},
     "output_type": "execute_result"
    }
   ],
   "source": [
    "credit.head()"
   ]
  },
  {
   "cell_type": "code",
   "execution_count": 6,
   "metadata": {
    "hidden": true
   },
   "outputs": [
    {
     "data": {
      "text/html": [
       "<div>\n",
       "<style scoped>\n",
       "    .dataframe tbody tr th:only-of-type {\n",
       "        vertical-align: middle;\n",
       "    }\n",
       "\n",
       "    .dataframe tbody tr th {\n",
       "        vertical-align: top;\n",
       "    }\n",
       "\n",
       "    .dataframe thead th {\n",
       "        text-align: right;\n",
       "    }\n",
       "</style>\n",
       "<table border=\"1\" class=\"dataframe\">\n",
       "  <thead>\n",
       "    <tr style=\"text-align: right;\">\n",
       "      <th></th>\n",
       "      <th>CLIENTNUM</th>\n",
       "      <th>Customer_Age</th>\n",
       "      <th>Dependent_count</th>\n",
       "      <th>Months_on_book</th>\n",
       "      <th>Total_Relationship_Count</th>\n",
       "      <th>Months_Inactive_12_mon</th>\n",
       "      <th>Contacts_Count_12_mon</th>\n",
       "      <th>Credit_Limit</th>\n",
       "      <th>Total_Revolving_Bal</th>\n",
       "      <th>Avg_Open_To_Buy</th>\n",
       "      <th>Total_Amt_Chng_Q4_Q1</th>\n",
       "      <th>Total_Trans_Amt</th>\n",
       "      <th>Total_Trans_Ct</th>\n",
       "      <th>Total_Ct_Chng_Q4_Q1</th>\n",
       "      <th>Avg_Utilization_Ratio</th>\n",
       "    </tr>\n",
       "  </thead>\n",
       "  <tbody>\n",
       "    <tr>\n",
       "      <th>count</th>\n",
       "      <td>1.012700e+04</td>\n",
       "      <td>10127.000000</td>\n",
       "      <td>10127.000000</td>\n",
       "      <td>10127.000000</td>\n",
       "      <td>10127.000000</td>\n",
       "      <td>10127.000000</td>\n",
       "      <td>10127.000000</td>\n",
       "      <td>10127.000000</td>\n",
       "      <td>10127.000000</td>\n",
       "      <td>10127.000000</td>\n",
       "      <td>10127.000000</td>\n",
       "      <td>10127.000000</td>\n",
       "      <td>10127.000000</td>\n",
       "      <td>10127.000000</td>\n",
       "      <td>10127.000000</td>\n",
       "    </tr>\n",
       "    <tr>\n",
       "      <th>mean</th>\n",
       "      <td>7.391776e+08</td>\n",
       "      <td>46.325960</td>\n",
       "      <td>2.346203</td>\n",
       "      <td>35.928409</td>\n",
       "      <td>3.812580</td>\n",
       "      <td>2.341167</td>\n",
       "      <td>2.455317</td>\n",
       "      <td>8631.953698</td>\n",
       "      <td>1162.814061</td>\n",
       "      <td>7469.139637</td>\n",
       "      <td>0.759941</td>\n",
       "      <td>4404.086304</td>\n",
       "      <td>64.858695</td>\n",
       "      <td>0.712222</td>\n",
       "      <td>0.274894</td>\n",
       "    </tr>\n",
       "    <tr>\n",
       "      <th>std</th>\n",
       "      <td>3.690378e+07</td>\n",
       "      <td>8.016814</td>\n",
       "      <td>1.298908</td>\n",
       "      <td>7.986416</td>\n",
       "      <td>1.554408</td>\n",
       "      <td>1.010622</td>\n",
       "      <td>1.106225</td>\n",
       "      <td>9088.776650</td>\n",
       "      <td>814.987335</td>\n",
       "      <td>9090.685324</td>\n",
       "      <td>0.219207</td>\n",
       "      <td>3397.129254</td>\n",
       "      <td>23.472570</td>\n",
       "      <td>0.238086</td>\n",
       "      <td>0.275691</td>\n",
       "    </tr>\n",
       "    <tr>\n",
       "      <th>min</th>\n",
       "      <td>7.080821e+08</td>\n",
       "      <td>26.000000</td>\n",
       "      <td>0.000000</td>\n",
       "      <td>13.000000</td>\n",
       "      <td>1.000000</td>\n",
       "      <td>0.000000</td>\n",
       "      <td>0.000000</td>\n",
       "      <td>1438.300000</td>\n",
       "      <td>0.000000</td>\n",
       "      <td>3.000000</td>\n",
       "      <td>0.000000</td>\n",
       "      <td>510.000000</td>\n",
       "      <td>10.000000</td>\n",
       "      <td>0.000000</td>\n",
       "      <td>0.000000</td>\n",
       "    </tr>\n",
       "    <tr>\n",
       "      <th>25%</th>\n",
       "      <td>7.130368e+08</td>\n",
       "      <td>41.000000</td>\n",
       "      <td>1.000000</td>\n",
       "      <td>31.000000</td>\n",
       "      <td>3.000000</td>\n",
       "      <td>2.000000</td>\n",
       "      <td>2.000000</td>\n",
       "      <td>2555.000000</td>\n",
       "      <td>359.000000</td>\n",
       "      <td>1324.500000</td>\n",
       "      <td>0.631000</td>\n",
       "      <td>2155.500000</td>\n",
       "      <td>45.000000</td>\n",
       "      <td>0.582000</td>\n",
       "      <td>0.023000</td>\n",
       "    </tr>\n",
       "    <tr>\n",
       "      <th>50%</th>\n",
       "      <td>7.179264e+08</td>\n",
       "      <td>46.000000</td>\n",
       "      <td>2.000000</td>\n",
       "      <td>36.000000</td>\n",
       "      <td>4.000000</td>\n",
       "      <td>2.000000</td>\n",
       "      <td>2.000000</td>\n",
       "      <td>4549.000000</td>\n",
       "      <td>1276.000000</td>\n",
       "      <td>3474.000000</td>\n",
       "      <td>0.736000</td>\n",
       "      <td>3899.000000</td>\n",
       "      <td>67.000000</td>\n",
       "      <td>0.702000</td>\n",
       "      <td>0.176000</td>\n",
       "    </tr>\n",
       "    <tr>\n",
       "      <th>75%</th>\n",
       "      <td>7.731435e+08</td>\n",
       "      <td>52.000000</td>\n",
       "      <td>3.000000</td>\n",
       "      <td>40.000000</td>\n",
       "      <td>5.000000</td>\n",
       "      <td>3.000000</td>\n",
       "      <td>3.000000</td>\n",
       "      <td>11067.500000</td>\n",
       "      <td>1784.000000</td>\n",
       "      <td>9859.000000</td>\n",
       "      <td>0.859000</td>\n",
       "      <td>4741.000000</td>\n",
       "      <td>81.000000</td>\n",
       "      <td>0.818000</td>\n",
       "      <td>0.503000</td>\n",
       "    </tr>\n",
       "    <tr>\n",
       "      <th>max</th>\n",
       "      <td>8.283431e+08</td>\n",
       "      <td>73.000000</td>\n",
       "      <td>5.000000</td>\n",
       "      <td>56.000000</td>\n",
       "      <td>6.000000</td>\n",
       "      <td>6.000000</td>\n",
       "      <td>6.000000</td>\n",
       "      <td>34516.000000</td>\n",
       "      <td>2517.000000</td>\n",
       "      <td>34516.000000</td>\n",
       "      <td>3.397000</td>\n",
       "      <td>18484.000000</td>\n",
       "      <td>139.000000</td>\n",
       "      <td>3.714000</td>\n",
       "      <td>0.999000</td>\n",
       "    </tr>\n",
       "  </tbody>\n",
       "</table>\n",
       "</div>"
      ],
      "text/plain": [
       "          CLIENTNUM  Customer_Age  Dependent_count  Months_on_book  \\\n",
       "count  1.012700e+04  10127.000000     10127.000000    10127.000000   \n",
       "mean   7.391776e+08     46.325960         2.346203       35.928409   \n",
       "std    3.690378e+07      8.016814         1.298908        7.986416   \n",
       "min    7.080821e+08     26.000000         0.000000       13.000000   \n",
       "25%    7.130368e+08     41.000000         1.000000       31.000000   \n",
       "50%    7.179264e+08     46.000000         2.000000       36.000000   \n",
       "75%    7.731435e+08     52.000000         3.000000       40.000000   \n",
       "max    8.283431e+08     73.000000         5.000000       56.000000   \n",
       "\n",
       "       Total_Relationship_Count  Months_Inactive_12_mon  \\\n",
       "count              10127.000000            10127.000000   \n",
       "mean                   3.812580                2.341167   \n",
       "std                    1.554408                1.010622   \n",
       "min                    1.000000                0.000000   \n",
       "25%                    3.000000                2.000000   \n",
       "50%                    4.000000                2.000000   \n",
       "75%                    5.000000                3.000000   \n",
       "max                    6.000000                6.000000   \n",
       "\n",
       "       Contacts_Count_12_mon  Credit_Limit  Total_Revolving_Bal  \\\n",
       "count           10127.000000  10127.000000         10127.000000   \n",
       "mean                2.455317   8631.953698          1162.814061   \n",
       "std                 1.106225   9088.776650           814.987335   \n",
       "min                 0.000000   1438.300000             0.000000   \n",
       "25%                 2.000000   2555.000000           359.000000   \n",
       "50%                 2.000000   4549.000000          1276.000000   \n",
       "75%                 3.000000  11067.500000          1784.000000   \n",
       "max                 6.000000  34516.000000          2517.000000   \n",
       "\n",
       "       Avg_Open_To_Buy  Total_Amt_Chng_Q4_Q1  Total_Trans_Amt  Total_Trans_Ct  \\\n",
       "count     10127.000000          10127.000000     10127.000000    10127.000000   \n",
       "mean       7469.139637              0.759941      4404.086304       64.858695   \n",
       "std        9090.685324              0.219207      3397.129254       23.472570   \n",
       "min           3.000000              0.000000       510.000000       10.000000   \n",
       "25%        1324.500000              0.631000      2155.500000       45.000000   \n",
       "50%        3474.000000              0.736000      3899.000000       67.000000   \n",
       "75%        9859.000000              0.859000      4741.000000       81.000000   \n",
       "max       34516.000000              3.397000     18484.000000      139.000000   \n",
       "\n",
       "       Total_Ct_Chng_Q4_Q1  Avg_Utilization_Ratio  \n",
       "count         10127.000000           10127.000000  \n",
       "mean              0.712222               0.274894  \n",
       "std               0.238086               0.275691  \n",
       "min               0.000000               0.000000  \n",
       "25%               0.582000               0.023000  \n",
       "50%               0.702000               0.176000  \n",
       "75%               0.818000               0.503000  \n",
       "max               3.714000               0.999000  "
      ]
     },
     "execution_count": 6,
     "metadata": {},
     "output_type": "execute_result"
    }
   ],
   "source": [
    "credit.describe()"
   ]
  },
  {
   "cell_type": "code",
   "execution_count": 7,
   "metadata": {
    "hidden": true
   },
   "outputs": [
    {
     "data": {
      "text/plain": [
       "Existing Customer    8500\n",
       "Attrited Customer    1627\n",
       "Name: Attrition_Flag, dtype: int64"
      ]
     },
     "execution_count": 7,
     "metadata": {},
     "output_type": "execute_result"
    }
   ],
   "source": [
    "credit['Attrition_Flag'].value_counts()"
   ]
  },
  {
   "cell_type": "markdown",
   "metadata": {
    "hidden": true
   },
   "source": [
    "We work for a credit card company and are worried about customers churning (becoming attrited)."
   ]
  },
  {
   "cell_type": "markdown",
   "metadata": {
    "heading_collapsed": true,
    "hidden": true
   },
   "source": [
    "### Question 1 (Exercise!)"
   ]
  },
  {
   "cell_type": "markdown",
   "metadata": {
    "hidden": true
   },
   "source": [
    "Get the means of the numerical columns for the existing and the attrited customers separately."
   ]
  },
  {
   "cell_type": "code",
   "execution_count": 13,
   "metadata": {
    "hidden": true
   },
   "outputs": [
    {
     "data": {
      "text/html": [
       "<div>\n",
       "<style scoped>\n",
       "    .dataframe tbody tr th:only-of-type {\n",
       "        vertical-align: middle;\n",
       "    }\n",
       "\n",
       "    .dataframe tbody tr th {\n",
       "        vertical-align: top;\n",
       "    }\n",
       "\n",
       "    .dataframe thead th {\n",
       "        text-align: right;\n",
       "    }\n",
       "</style>\n",
       "<table border=\"1\" class=\"dataframe\">\n",
       "  <thead>\n",
       "    <tr style=\"text-align: right;\">\n",
       "      <th></th>\n",
       "      <th>CLIENTNUM</th>\n",
       "      <th>Attrition_Flag</th>\n",
       "      <th>Customer_Age</th>\n",
       "      <th>Gender</th>\n",
       "      <th>Dependent_count</th>\n",
       "      <th>Education_Level</th>\n",
       "      <th>Marital_Status</th>\n",
       "      <th>Income_Category</th>\n",
       "      <th>Card_Category</th>\n",
       "      <th>Months_on_book</th>\n",
       "      <th>...</th>\n",
       "      <th>Months_Inactive_12_mon</th>\n",
       "      <th>Contacts_Count_12_mon</th>\n",
       "      <th>Credit_Limit</th>\n",
       "      <th>Total_Revolving_Bal</th>\n",
       "      <th>Avg_Open_To_Buy</th>\n",
       "      <th>Total_Amt_Chng_Q4_Q1</th>\n",
       "      <th>Total_Trans_Amt</th>\n",
       "      <th>Total_Trans_Ct</th>\n",
       "      <th>Total_Ct_Chng_Q4_Q1</th>\n",
       "      <th>Avg_Utilization_Ratio</th>\n",
       "    </tr>\n",
       "  </thead>\n",
       "  <tbody>\n",
       "    <tr>\n",
       "      <th>0</th>\n",
       "      <td>768805383</td>\n",
       "      <td>Existing Customer</td>\n",
       "      <td>45</td>\n",
       "      <td>M</td>\n",
       "      <td>3</td>\n",
       "      <td>High School</td>\n",
       "      <td>Married</td>\n",
       "      <td>$60K - $80K</td>\n",
       "      <td>Blue</td>\n",
       "      <td>39</td>\n",
       "      <td>...</td>\n",
       "      <td>1</td>\n",
       "      <td>3</td>\n",
       "      <td>12691.0</td>\n",
       "      <td>777</td>\n",
       "      <td>11914.0</td>\n",
       "      <td>1.335</td>\n",
       "      <td>1144</td>\n",
       "      <td>42</td>\n",
       "      <td>1.625</td>\n",
       "      <td>0.061</td>\n",
       "    </tr>\n",
       "    <tr>\n",
       "      <th>1</th>\n",
       "      <td>818770008</td>\n",
       "      <td>Existing Customer</td>\n",
       "      <td>49</td>\n",
       "      <td>F</td>\n",
       "      <td>5</td>\n",
       "      <td>Graduate</td>\n",
       "      <td>Single</td>\n",
       "      <td>Less than $40K</td>\n",
       "      <td>Blue</td>\n",
       "      <td>44</td>\n",
       "      <td>...</td>\n",
       "      <td>1</td>\n",
       "      <td>2</td>\n",
       "      <td>8256.0</td>\n",
       "      <td>864</td>\n",
       "      <td>7392.0</td>\n",
       "      <td>1.541</td>\n",
       "      <td>1291</td>\n",
       "      <td>33</td>\n",
       "      <td>3.714</td>\n",
       "      <td>0.105</td>\n",
       "    </tr>\n",
       "  </tbody>\n",
       "</table>\n",
       "<p>2 rows × 21 columns</p>\n",
       "</div>"
      ],
      "text/plain": [
       "   CLIENTNUM     Attrition_Flag  Customer_Age Gender  Dependent_count  \\\n",
       "0  768805383  Existing Customer            45      M                3   \n",
       "1  818770008  Existing Customer            49      F                5   \n",
       "\n",
       "  Education_Level Marital_Status Income_Category Card_Category  \\\n",
       "0     High School        Married     $60K - $80K          Blue   \n",
       "1        Graduate         Single  Less than $40K          Blue   \n",
       "\n",
       "   Months_on_book  ...  Months_Inactive_12_mon  Contacts_Count_12_mon  \\\n",
       "0              39  ...                       1                      3   \n",
       "1              44  ...                       1                      2   \n",
       "\n",
       "   Credit_Limit  Total_Revolving_Bal  Avg_Open_To_Buy  Total_Amt_Chng_Q4_Q1  \\\n",
       "0       12691.0                  777          11914.0                 1.335   \n",
       "1        8256.0                  864           7392.0                 1.541   \n",
       "\n",
       "   Total_Trans_Amt  Total_Trans_Ct  Total_Ct_Chng_Q4_Q1  Avg_Utilization_Ratio  \n",
       "0             1144              42                1.625                  0.061  \n",
       "1             1291              33                3.714                  0.105  \n",
       "\n",
       "[2 rows x 21 columns]"
      ]
     },
     "execution_count": 13,
     "metadata": {},
     "output_type": "execute_result"
    }
   ],
   "source": [
    "credit.head(2)"
   ]
  },
  {
   "cell_type": "code",
   "execution_count": 11,
   "metadata": {},
   "outputs": [
    {
     "data": {
      "text/plain": [
       "3.8125802310654686"
      ]
     },
     "execution_count": 11,
     "metadata": {},
     "output_type": "execute_result"
    }
   ],
   "source": [
    "credit['Total_Relationship_Count'].mean()"
   ]
  },
  {
   "cell_type": "code",
   "execution_count": 12,
   "metadata": {},
   "outputs": [
    {
     "data": {
      "text/html": [
       "<div>\n",
       "<style scoped>\n",
       "    .dataframe tbody tr th:only-of-type {\n",
       "        vertical-align: middle;\n",
       "    }\n",
       "\n",
       "    .dataframe tbody tr th {\n",
       "        vertical-align: top;\n",
       "    }\n",
       "\n",
       "    .dataframe thead th {\n",
       "        text-align: right;\n",
       "    }\n",
       "</style>\n",
       "<table border=\"1\" class=\"dataframe\">\n",
       "  <thead>\n",
       "    <tr style=\"text-align: right;\">\n",
       "      <th></th>\n",
       "      <th>CLIENTNUM</th>\n",
       "      <th>Customer_Age</th>\n",
       "      <th>Dependent_count</th>\n",
       "      <th>Months_on_book</th>\n",
       "      <th>Total_Relationship_Count</th>\n",
       "      <th>Months_Inactive_12_mon</th>\n",
       "      <th>Contacts_Count_12_mon</th>\n",
       "      <th>Credit_Limit</th>\n",
       "      <th>Total_Revolving_Bal</th>\n",
       "      <th>Avg_Open_To_Buy</th>\n",
       "      <th>Total_Amt_Chng_Q4_Q1</th>\n",
       "      <th>Total_Trans_Amt</th>\n",
       "      <th>Total_Trans_Ct</th>\n",
       "      <th>Total_Ct_Chng_Q4_Q1</th>\n",
       "      <th>Avg_Utilization_Ratio</th>\n",
       "    </tr>\n",
       "    <tr>\n",
       "      <th>Attrition_Flag</th>\n",
       "      <th></th>\n",
       "      <th></th>\n",
       "      <th></th>\n",
       "      <th></th>\n",
       "      <th></th>\n",
       "      <th></th>\n",
       "      <th></th>\n",
       "      <th></th>\n",
       "      <th></th>\n",
       "      <th></th>\n",
       "      <th></th>\n",
       "      <th></th>\n",
       "      <th></th>\n",
       "      <th></th>\n",
       "      <th></th>\n",
       "    </tr>\n",
       "  </thead>\n",
       "  <tbody>\n",
       "    <tr>\n",
       "      <th>Attrited Customer</th>\n",
       "      <td>7.352614e+08</td>\n",
       "      <td>46.659496</td>\n",
       "      <td>2.402581</td>\n",
       "      <td>36.178242</td>\n",
       "      <td>3.279656</td>\n",
       "      <td>2.693301</td>\n",
       "      <td>2.972342</td>\n",
       "      <td>8136.039459</td>\n",
       "      <td>672.822987</td>\n",
       "      <td>7463.216472</td>\n",
       "      <td>0.694277</td>\n",
       "      <td>3095.025814</td>\n",
       "      <td>44.933620</td>\n",
       "      <td>0.554386</td>\n",
       "      <td>0.162475</td>\n",
       "    </tr>\n",
       "    <tr>\n",
       "      <th>Existing Customer</th>\n",
       "      <td>7.399272e+08</td>\n",
       "      <td>46.262118</td>\n",
       "      <td>2.335412</td>\n",
       "      <td>35.880588</td>\n",
       "      <td>3.914588</td>\n",
       "      <td>2.273765</td>\n",
       "      <td>2.356353</td>\n",
       "      <td>8726.877518</td>\n",
       "      <td>1256.604118</td>\n",
       "      <td>7470.273400</td>\n",
       "      <td>0.772510</td>\n",
       "      <td>4654.655882</td>\n",
       "      <td>68.672588</td>\n",
       "      <td>0.742434</td>\n",
       "      <td>0.296412</td>\n",
       "    </tr>\n",
       "  </tbody>\n",
       "</table>\n",
       "</div>"
      ],
      "text/plain": [
       "                      CLIENTNUM  Customer_Age  Dependent_count  \\\n",
       "Attrition_Flag                                                   \n",
       "Attrited Customer  7.352614e+08     46.659496         2.402581   \n",
       "Existing Customer  7.399272e+08     46.262118         2.335412   \n",
       "\n",
       "                   Months_on_book  Total_Relationship_Count  \\\n",
       "Attrition_Flag                                                \n",
       "Attrited Customer       36.178242                  3.279656   \n",
       "Existing Customer       35.880588                  3.914588   \n",
       "\n",
       "                   Months_Inactive_12_mon  Contacts_Count_12_mon  \\\n",
       "Attrition_Flag                                                     \n",
       "Attrited Customer                2.693301               2.972342   \n",
       "Existing Customer                2.273765               2.356353   \n",
       "\n",
       "                   Credit_Limit  Total_Revolving_Bal  Avg_Open_To_Buy  \\\n",
       "Attrition_Flag                                                          \n",
       "Attrited Customer   8136.039459           672.822987      7463.216472   \n",
       "Existing Customer   8726.877518          1256.604118      7470.273400   \n",
       "\n",
       "                   Total_Amt_Chng_Q4_Q1  Total_Trans_Amt  Total_Trans_Ct  \\\n",
       "Attrition_Flag                                                             \n",
       "Attrited Customer              0.694277      3095.025814       44.933620   \n",
       "Existing Customer              0.772510      4654.655882       68.672588   \n",
       "\n",
       "                   Total_Ct_Chng_Q4_Q1  Avg_Utilization_Ratio  \n",
       "Attrition_Flag                                                 \n",
       "Attrited Customer             0.554386               0.162475  \n",
       "Existing Customer             0.742434               0.296412  "
      ]
     },
     "execution_count": 12,
     "metadata": {},
     "output_type": "execute_result"
    }
   ],
   "source": [
    "credit.groupby('Attrition_Flag').mean()"
   ]
  },
  {
   "cell_type": "markdown",
   "metadata": {
    "hidden": true
   },
   "source": [
    "<details>\n",
    "    <summary>One answer here</summary>\n",
    "\n",
    "```python\n",
    "credit.groupby('Attrition_Flag').mean()\n",
    "```\n",
    "</details>"
   ]
  },
  {
   "cell_type": "markdown",
   "metadata": {
    "heading_collapsed": true,
    "hidden": true
   },
   "source": [
    "### Question 2 (Exercise!)"
   ]
  },
  {
   "cell_type": "markdown",
   "metadata": {
    "hidden": true
   },
   "source": [
    "Visualize the distributions of total revolving balances for each group."
   ]
  },
  {
   "cell_type": "code",
   "execution_count": 24,
   "metadata": {
    "hidden": true,
    "scrolled": true
   },
   "outputs": [
    {
     "data": {
      "image/png": "[encoded data removed]",
      "text/plain": [
       "<Figure size 432x288 with 1 Axes>"
      ]
     },
     "metadata": {},
     "output_type": "display_data"
    }
   ],
   "source": [
    "a = credit[credit['Attrition_Flag']==\"Attrited Customer\"]\n",
    "e = credit[credit['Attrition_Flag']==\"Existing Customer\"]\n",
    "\n",
    "fig, ax = plt.subplots()\n",
    "ax.hist(e['Total_Revolving_Bal'], label='existing', color='blue')\n",
    "ax.hist(a['Total_Revolving_Bal'], label='churned', color='red')\n",
    "ax.legend();"
   ]
  },
  {
   "cell_type": "markdown",
   "metadata": {
    "hidden": true
   },
   "source": [
    "<details>\n",
    "    <summary>One answer here</summary>\n",
    "\n",
    "```python\n",
    "existing = credit[credit['Attrition_Flag'] == 'Existing Customer']\n",
    "churned = credit[credit['Attrition_Flag'] == 'Attrited Customer']\n",
    "fig, ax = plt.subplots()\n",
    "ax.hist(existing['Total_Revolving_Bal'], label='existing')\n",
    "ax.hist(churned['Total_Revolving_Bal'], label='churned')\n",
    "ax.legend();\n",
    "```\n",
    "</details>"
   ]
  },
  {
   "cell_type": "markdown",
   "metadata": {
    "heading_collapsed": true,
    "hidden": true
   },
   "source": [
    "### Question 3 (Exercise!)"
   ]
  },
  {
   "cell_type": "markdown",
   "metadata": {
    "hidden": true
   },
   "source": [
    "Make two bar charts counting the numbers in each income category for each group separately."
   ]
  },
  {
   "cell_type": "code",
   "execution_count": 36,
   "metadata": {
    "hidden": true
   },
   "outputs": [
    {
     "name": "stderr",
     "output_type": "stream",
     "text": [
      "<ipython-input-36-a45191839cb9>:11: UserWarning: FixedFormatter should only be used together with FixedLocator\n",
      "  ax.set_xticklabels(labels=ai.index,\n"
     ]
    },
    {
     "data": {
      "image/png": "[encoded data removed]",
      "text/plain": [
       "<Figure size 432x288 with 1 Axes>"
      ]
     },
     "metadata": {},
     "output_type": "display_data"
    }
   ],
   "source": [
    "ei = e['Income_Category'].value_counts()\n",
    "ai = a['Income_Category'].value_counts()\n",
    "ei\n",
    "fig, ax = plt.subplots()\n",
    "ei = e['Income_Category'].value_counts()\n",
    "ai = a['Income_Category'].value_counts()\n",
    "ax.bar(x=ei.index,\n",
    "       height=ei, label='existing')\n",
    "ax.bar(x=ai.index,\n",
    "       height=ai, label='churned')\n",
    "ax.set_xticklabels(labels=ai.index,\n",
    "                  rotation=80)\n",
    "ax.legend();"
   ]
  },
  {
   "cell_type": "markdown",
   "metadata": {
    "hidden": true
   },
   "source": [
    "<details>\n",
    "    <summary>One answer here</summary>\n",
    "\n",
    "```python\n",
    "fig, ax = plt.subplots()\n",
    "existing_cats = existing['Income_Category'].value_counts()\n",
    "churned_cats = churned['Income_Category'].value_counts()\n",
    "ax.bar(x=existing_cats.index,\n",
    "       height=existing_cats, label='existing')\n",
    "ax.bar(x=churned_cats.index,\n",
    "       height=churned_cats, label='churned')\n",
    "ax.set_xticklabels(labels=churned_cats.index,\n",
    "                  rotation=80)\n",
    "ax.legend();\n",
    "```\n",
    "</details>"
   ]
  },
  {
   "cell_type": "markdown",
   "metadata": {
    "heading_collapsed": true
   },
   "source": [
    "# Level Up: Other Shape Descriptors"
   ]
  },
  {
   "cell_type": "markdown",
   "metadata": {
    "hidden": true
   },
   "source": [
    "Here are a few other ways that people describe the distributions of data."
   ]
  },
  {
   "cell_type": "markdown",
   "metadata": {
    "heading_collapsed": true,
    "hidden": true
   },
   "source": [
    "## Moments"
   ]
  },
  {
   "cell_type": "markdown",
   "metadata": {
    "hidden": true
   },
   "source": [
    "The mean is related to $\\Sigma(x_i - \\bar{x})$ while the standard deviation is related to $\\Sigma(x_i - \\bar{x})^2$. We could consider higher exponents as well, of the form $\\Sigma(x_i - \\bar{x})^n$. For each exponent $n>0$, we can define a related statistical **moment**. For $n=3$, the moment is called the **skewness**, which is a measure of how the mean and median diverge. For $n=4$, the moment is called the **kurtosis**, which is a measure of how many values are relatively far from the mean.\n",
    "\n",
    "There are a few different definitions of skewness and kurtosis that are commonly used, but the basic quantities are:\n",
    "\n",
    "- $\\frac{\\Sigma(x_i - \\bar{x})^3}{n\\sigma^3}$ (for skewness)\n",
    "- $\\frac{\\Sigma(x_i - \\bar{x})^4}{n\\sigma^4}$ (for kurtosis)\n",
    "\n",
    "For more on statistical moments, see [here](https://www.statisticshowto.datasciencecentral.com/what-is-a-moment/) and [here](https://www.spcforexcel.com/knowledge/basic-statistics/are-skewness-and-kurtosis-useful-statistics)."
   ]
  },
  {
   "cell_type": "markdown",
   "metadata": {
    "heading_collapsed": true,
    "hidden": true
   },
   "source": [
    "### Skewness"
   ]
  },
  {
   "cell_type": "markdown",
   "metadata": {
    "hidden": true
   },
   "source": [
    "![skew](images/skew.png)"
   ]
  },
  {
   "cell_type": "code",
   "execution_count": null,
   "metadata": {
    "hidden": true
   },
   "outputs": [],
   "source": [
    "stats.skew(data)"
   ]
  },
  {
   "cell_type": "markdown",
   "metadata": {
    "heading_collapsed": true,
    "hidden": true
   },
   "source": [
    "### Kurtosis"
   ]
  },
  {
   "cell_type": "markdown",
   "metadata": {
    "hidden": true
   },
   "source": [
    "![kurt](images/kurtosis.png)"
   ]
  },
  {
   "cell_type": "code",
   "execution_count": null,
   "metadata": {
    "hidden": true
   },
   "outputs": [],
   "source": [
    "stats.kurtosis(data)"
   ]
  },
  {
   "cell_type": "markdown",
   "metadata": {
    "hidden": true
   },
   "source": [
    "What if we want to visualize the three histograms together?"
   ]
  },
  {
   "cell_type": "markdown",
   "metadata": {
    "heading_collapsed": true,
    "hidden": true
   },
   "source": [
    "## Symmetry"
   ]
  },
  {
   "cell_type": "code",
   "execution_count": null,
   "metadata": {
    "hidden": true
   },
   "outputs": [],
   "source": [
    "X = np.linspace(-3, 3, 40)\n",
    "y = stats.norm.pdf(X) + 0.05 * np.random.rand(40)\n",
    "\n",
    "fig, ax = plt.subplots(figsize=(8, 7))\n",
    "ax.plot(X, y, lw=5)\n",
    "ax.vlines(x=0, ymin=0, ymax=0.5, colors = \"black\")\n",
    "plt.title('Symmetric Distribution');\n",
    "\n",
    "X = np.linspace(0, 1, 40)\n",
    "y = stats.expon.pdf(X) + 0.05 * np.random.rand(40)\n",
    "\n",
    "fig, ax = plt.subplots(figsize=(8, 7))\n",
    "ax.plot(X, y, lw=5)\n",
    "plt.title('Asymmetric Distribution');"
   ]
  },
  {
   "cell_type": "markdown",
   "metadata": {
    "heading_collapsed": true,
    "hidden": true
   },
   "source": [
    "## Modality"
   ]
  },
  {
   "cell_type": "code",
   "execution_count": null,
   "metadata": {
    "hidden": true
   },
   "outputs": [],
   "source": [
    "X = np.linspace(0, 1, 40)\n",
    "y = stats.uniform.pdf(X) + 0.05 * np.random.rand(40)\n",
    "\n",
    "fig, ax = plt.subplots(figsize=(8, 7))\n",
    "ax.plot(X, y, lw=5)\n",
    "plt.ylim(0.5, 1.5)\n",
    "plt.title('Flat Distribution');\n",
    "\n",
    "X = np.linspace(-5, 5, 40)\n",
    "y = stats.norm.pdf(X, loc=-2) + stats.norm.pdf(X, loc=2)\\\n",
    "+ 0.05 * np.random.rand(40)\n",
    "\n",
    "fig, ax = plt.subplots(figsize=(8, 7))\n",
    "ax.plot(X, y, lw=5)\n",
    "plt.title('Bimodal Distribution');"
   ]
  }
 ],
 "metadata": {
  "kernelspec": {
   "display_name": "Python 3",
   "language": "python",
   "name": "python3"
  },
  "language_info": {
   "codemirror_mode": {
    "name": "ipython",
    "version": 3
   },
   "file_extension": ".py",
   "mimetype": "text/x-python",
   "name": "python",
   "nbconvert_exporter": "python",
   "pygments_lexer": "ipython3",
   "version": "3.8.5"
  },
  "toc": {
   "base_numbering": 1,
   "nav_menu": {},
   "number_sections": true,
   "sideBar": true,
   "skip_h1_title": false,
   "title_cell": "Table of Contents",
   "title_sidebar": "TOC",
   "toc_cell": true,
   "toc_position": {
    "height": "calc(100% - 180px)",
    "left": "10px",
    "top": "150px",
    "width": "288px"
   },
   "toc_section_display": true,
   "toc_window_display": true
  }
 },
 "nbformat": 4,
 "nbformat_minor": 2
}
